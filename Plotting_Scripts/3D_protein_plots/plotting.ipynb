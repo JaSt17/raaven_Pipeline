{
 "cells": [
  {
   "cell_type": "code",
   "execution_count": null,
   "id": "a95cec4d",
   "metadata": {},
   "outputs": [],
   "source": [
    "import py3Dmol\n",
    "\n",
    "# Load the CIF file\n",
    "with open(\"6ih9.cif\", \"r\") as f:\n",
    "    cif_data = f.read()\n",
    "\n",
    "# Create a py3Dmol view\n",
    "view = py3Dmol.view(width=800, height=600)\n",
    "\n",
    "# Add the CIF model\n",
    "view.addModel(cif_data, \"cif\")\n",
    "\n",
    "# General style\n",
    "view.setStyle({}, {'sphere': {'color': 'lightgrey'}})\n",
    "\n",
    "# Highlight residues 410–610 in pastel dark blue\n",
    "view.setStyle({'resi': list(range(410, 611))}, {'sphere': {'color': 'lightcoral'}})\n",
    "\n",
    "# Highlight residues 560–610 in pastel lighter red\n",
    "view.setStyle({'resi': list(range(560, 611))}, {'sphere': {'color': 'lightsteelblue'}})\n",
    "\n",
    "# Highlight residue 587 in bright red\n",
    "view.setStyle({'resi': [587]}, {'sphere': {'color': 'orange'}})\n",
    "\n",
    "# Zoom to fit everything nicely\n",
    "view.zoomTo()\n",
    "\n",
    "# Display the viewer\n",
    "view.show()\n"
   ]
  },
  {
   "cell_type": "code",
   "execution_count": null,
   "id": "575ad665",
   "metadata": {},
   "outputs": [],
   "source": [
    "import py3Dmol\n",
    "\n",
    "# Load your CIF file\n",
    "with open(\"8fz0.cif\", \"r\") as f:\n",
    "    cif_data = f.read()\n",
    "\n",
    "# Create a py3Dmol view\n",
    "view = py3Dmol.view(width=800, height=600)\n",
    "\n",
    "# Add the CIF model by specifying the format as \"cif\"\n",
    "view.addModel(cif_data, \"cif\")\n",
    "\n",
    "# Set the overall style to sphere in grey\n",
    "view.setStyle({}, {'sphere': {'color': 'lightgrey'}})\n",
    "\n",
    "# Highlight residue 587 in bright red\n",
    "view.setStyle({'resi': [587]}, {'sphere': {'color': 'orange'}})\n",
    "\n",
    "# Adjust the view and display the structure\n",
    "view.zoomTo()\n",
    "view.show()"
   ]
  }
 ],
 "metadata": {
  "kernelspec": {
   "display_name": "Python 3",
   "language": "python",
   "name": "python3"
  },
  "language_info": {
   "codemirror_mode": {
    "name": "ipython",
    "version": 3
   },
   "file_extension": ".py",
   "mimetype": "text/x-python",
   "name": "python",
   "nbconvert_exporter": "python",
   "pygments_lexer": "ipython3",
   "version": "3.11.9"
  }
 },
 "nbformat": 4,
 "nbformat_minor": 5
}
