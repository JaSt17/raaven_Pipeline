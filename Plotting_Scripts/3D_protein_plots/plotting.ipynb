{
 "cells": [
  {
   "cell_type": "code",
   "execution_count": null,
   "metadata": {},
   "outputs": [],
   "source": [
    "import py3Dmol\n",
    "\n",
    "# Load the CIF file\n",
    "with open(\"6ih9.cif\", \"r\") as f:\n",
    "    cif_data = f.read()\n",
    "\n",
    "# Create a py3Dmol view\n",
    "view = py3Dmol.view(width=800, height=600)\n",
    "\n",
    "# Add the CIF model\n",
    "view.addModel(cif_data, \"cif\")\n",
    "\n",
    "# Set styles\n",
    "view.setStyle({}, {'sphere': {'color': 'lightgrey'}})\n",
    "view.setStyle({'resi': list(range(585, 590))}, {'sphere': {'color': 'red'}})\n",
    "\n",
    "view.zoomTo()\n",
    "\n",
    "# 1) Display the viewer in this cell so the JavaScript can actually run\n",
    "view.show()\n"
   ]
  },
  {
   "cell_type": "code",
   "execution_count": null,
   "metadata": {},
   "outputs": [],
   "source": [
    "import py3Dmol\n",
    "\n",
    "# Load your CIF file\n",
    "with open(\"8fz0.cif\", \"r\") as f:\n",
    "    cif_data = f.read()\n",
    "\n",
    "# Create a py3Dmol view\n",
    "view = py3Dmol.view(width=800, height=600)\n",
    "\n",
    "# Add the CIF model by specifying the format as \"cif\"\n",
    "view.addModel(cif_data, \"cif\")\n",
    "\n",
    "# Set the overall style to sphere in grey\n",
    "view.setStyle({}, {'sphere': {'color': 'lightgrey'}})\n",
    "\n",
    "# Highlight the specified residues with a different style (e.g., sphere in red)\n",
    "view.setStyle({'resi': list(range(585, 590))}, {'sphere': {'color': 'red'}})\n",
    "\n",
    "# Adjust the view and display the structure\n",
    "view.zoomTo()\n",
    "view.show()\n"
   ]
  }
 ],
 "metadata": {
  "kernelspec": {
   "display_name": "Python 3",
   "language": "python",
   "name": "python3"
  },
  "language_info": {
   "codemirror_mode": {
    "name": "ipython",
    "version": 3
   },
   "file_extension": ".py",
   "mimetype": "text/x-python",
   "name": "python",
   "nbconvert_exporter": "python",
   "pygments_lexer": "ipython3",
   "version": "3.11.9"
  }
 },
 "nbformat": 4,
 "nbformat_minor": 2
}
