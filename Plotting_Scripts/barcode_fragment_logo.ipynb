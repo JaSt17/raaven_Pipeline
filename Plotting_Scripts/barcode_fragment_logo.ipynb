{
 "cells": [
  {
   "cell_type": "markdown",
   "metadata": {},
   "source": [
    "### Script for Plotting Logos\n",
    "\n",
    "This notebook contains all the necessary code to generate logo plots for barcodes and fragments across all libraries. \n",
    "\n",
    "These visualizations can be used to:\n",
    "- Assess the quality of barcodes.\n",
    "- Examine the structural patterns of fragments within different libraries.\n"
   ]
  },
  {
   "cell_type": "code",
   "execution_count": null,
   "metadata": {},
   "outputs": [],
   "source": [
    "from Bio import SeqIO\n",
    "\n",
    "# Define the input file (regular FASTQ, not gzipped)\n",
    "input_file = \"/lunarc/nobackup/projects/lu2024-17-19/J_rAAven/BRAVE/raav-60/p006/barcode_fragment/unique_fragments.fasta\"\n",
    "library = \"p006\"\n",
    "\n",
    "# Extract sequences\n",
    "sequences = []\n",
    "with open(input_file, \"r\") as handle:  # Use open instead of gzip.open\n",
    "    for record in SeqIO.parse(handle, \"fasta\"):\n",
    "        sequences.append(str(record.seq))\n",
    "        \n",
    "# check if all sequences are the same length\n",
    "lengths = [len(seq) for seq in sequences]\n",
    "if len(set(lengths)) > 1:\n",
    "    print(\"Sequences are not all the same length\")\n",
    "    print(\"Set all Sequences to the same length\")\n",
    "    max_length = max(lengths)\n",
    "    sequences = [seq.ljust(max_length, \"N\") for seq in sequences]\n",
    "    print(\"Number of sequences: \", len(sequences))\n",
    "else:\n",
    "    print(\"Number of sequences: \", len(sequences))"
   ]
  },
  {
   "cell_type": "code",
   "execution_count": null,
   "metadata": {},
   "outputs": [],
   "source": [
    "import pandas as pd\n",
    "import logomaker\n",
    "\n",
    "# Convert sequences to a pandas DataFrame with Base counts per position\n",
    "\n",
    "# Load sequences into a pandas DataFrame\n",
    "sequence_df = pd.DataFrame([list(seq) for seq in sequences])\n",
    "\n",
    "# Count occurrences of each nucleotide\n",
    "counts_df = sequence_df.apply(pd.Series.value_counts).fillna(0)\n",
    "\n",
    "# Convert counts to a probability matrix\n",
    "probability_df = counts_df.div(counts_df.sum(axis=0), axis=1)\n",
    "\n",
    "# transpose the matrix\n",
    "probability_df = probability_df.T"
   ]
  },
  {
   "cell_type": "code",
   "execution_count": null,
   "metadata": {},
   "outputs": [],
   "source": [
    "import matplotlib.pyplot as plt\n",
    "\n",
    "# Create the logo\n",
    "logo = logomaker.Logo(probability_df, figsize=(10, 2))\n",
    "\n",
    "# Style the ticks (optional)\n",
    "logo.style_xticks(anchor=0, spacing=1)\n",
    "\n",
    "# Add title, x-label, and y-label\n",
    "plt.title(f\"Distribution of nucleotides in fragments in {library}\")\n",
    "plt.xlabel(\"Position in the Fragment\")\n",
    "plt.ylabel(\"Frequency\")\n",
    "plt.savefig(f\"plots/logos/frag_dist_{library}.png\", dpi=300)\n",
    "# Display the plot\n",
    "plt.show()"
   ]
  }
 ],
 "metadata": {
  "kernelspec": {
   "display_name": "Python Jupyter Lab",
   "language": "python",
   "name": "jupyter"
  },
  "language_info": {
   "codemirror_mode": {
    "name": "ipython",
    "version": 3
   },
   "file_extension": ".py",
   "mimetype": "text/x-python",
   "name": "python",
   "nbconvert_exporter": "python",
   "pygments_lexer": "ipython3",
   "version": "3.11.9"
  }
 },
 "nbformat": 4,
 "nbformat_minor": 4
}
