{
 "cells": [
  {
   "cell_type": "markdown",
   "metadata": {},
   "source": [
    "### Visualisation Notebook\n",
    "This notebook serves as a comprehensive resource for generating plots featured in the manuscript, as well as providing additional visualizations for data analysis and interpretation.\n",
    "\n",
    "Key points include:\n",
    "\n",
    "- All scripts used to produce the manuscript's plots are included in this notebook.\n",
    "- Additional plots are available to facilitate further exploration and analysis of the data.\n",
    "- The code for the plotting functions is modularized and stored separately in the plotting_functions.py file for ease of use and maintenance.\n"
   ]
  },
  {
   "cell_type": "code",
   "execution_count": null,
   "metadata": {},
   "outputs": [],
   "source": [
    "\n",
    "#This two functions are used to get the number of fragments per group and the top fragments per group for each library\n",
    "\n",
    "import pandas as pd\n",
    "\n",
    "def get_fragments_per_group(df_list: list, library_names: list, group_col: str, count_col) -> pd.DataFrame:\n",
    "    new_df = pd.DataFrame()\n",
    "    for i, df in enumerate(df_list):\n",
    "        # add the number of unique elements from the count column with each group\n",
    "        new_row = df.groupby(group_col).agg({count_col: 'nunique'}).reset_index()\n",
    "        # rename count column\n",
    "        new_row.rename(columns={count_col: 'count'}, inplace=True)\n",
    "        new_row['library'] = library_names[i]\n",
    "        new_df = pd.concat([new_df, new_row])\n",
    "        \n",
    "    # Sort the dataframe by the count column\n",
    "    new_df.sort_values(by='count', ascending=False, inplace=True)\n",
    "        \n",
    "    return new_df\n",
    "\n",
    "\n",
    "def get_top_fragments_per_group(df_list: list, library_names: list, group_col: str, value_col:str, number_of_top: int=10) -> pd.DataFrame:\n",
    "    new_df = pd.DataFrame()\n",
    "    for i, df in enumerate(df_list):\n",
    "        df['library'] = library_names[i]\n",
    "        df = df[[group_col, value_col, 'library','LUTnr', 'Peptide', 'Sequence']]\n",
    "        new_df = pd.concat([new_df, df])\n",
    "    new_df.sort_values(by=[group_col,value_col], ascending=[True,False], inplace=True)\n",
    "    # add the number of top number of rows with the highest values from the value column with each group\n",
    "    temp_df = new_df.groupby(group_col).apply(lambda x: x.nlargest(number_of_top, value_col)).reset_index(drop=True)\n",
    "        \n",
    "    # Sort the dataframe by the count column\n",
    "    temp_df.sort_values(by=[group_col,value_col], ascending=[True,False], inplace=True)\n",
    "    \n",
    "    return temp_df"
   ]
  },
  {
   "cell_type": "code",
   "execution_count": null,
   "metadata": {},
   "outputs": [],
   "source": [
    "# Here the dataframes are read into dataframes and the functions are called\n",
    "\n",
    "import pandas as pd\n",
    "\n",
    "df_p005 = pd.read_csv(\"/lunarc/nobackup/projects/lu2024-17-19/J_rAAven/BRAVE/raav-60/p005/final_fragments_summary.csv\")\n",
    "df_p006 = pd.read_csv(\"/lunarc/nobackup/projects/lu2024-17-19/J_rAAven/BRAVE/raav-60/p006/final_fragments_summary.csv\")\n",
    "df_p007 = pd.read_csv(\"/lunarc/nobackup/projects/lu2024-17-19/J_rAAven/BRAVE/raav-60/p007/final_fragments_summary.csv\")\n",
    "count_df = get_fragments_per_group([df_p005, df_p006, df_p007],[\"p005\", \"p006\", \"p007\"], 'Group', 'LUTnr')"
   ]
  },
  {
   "cell_type": "code",
   "execution_count": null,
   "metadata": {},
   "outputs": [],
   "source": [
    "# Here we are using the plotting function that we have created to plot the number of fragments per group for each library\n",
    "\n",
    "from plotting_functions import create_grouped_barplot\n",
    "\n",
    "plot = create_grouped_barplot(count_df, 'Group', 'count', 'library')\n",
    "# save the plot as a png file without background\n",
    "plot.savefig(\"plots/librarys/fragments_per_tissue_comparison.png\", dpi=300, bbox_inches='tight', transparent=True)"
   ]
  },
  {
   "cell_type": "code",
   "execution_count": null,
   "metadata": {},
   "outputs": [],
   "source": [
    "# Here we chose the number of top fragments that we want for each group and the value column that we want to use\n",
    "# Then we create a new dataframe with the top fragments for each group and save it to a csv file\n",
    "\n",
    "top_nr = 25\n",
    "value_col = 'RNAcount' #'BC_adjusted_count_ratio' or 'RNAcount'\n",
    "top_df = get_top_fragments_per_group([df_p005, df_p006, df_p007],[\"p005\", \"p006\", \"p007\"], 'Group', value_col, top_nr)\n",
    "top_df.to_csv(f\"plots/librarys/top_{top_nr}_{value_col}_fragments.csv\", index=False)"
   ]
  },
  {
   "cell_type": "markdown",
   "metadata": {},
   "source": [
    "### Library-Specific Plots\n",
    "This section focuses on generating plots tailored to specific libraries. The visualizations can be customized by selecting different datasets (dataframes) representing the libraries. Users can modify the code to switch between libraries as needed, enabling flexibility in analysis and presentation."
   ]
  },
  {
   "cell_type": "code",
   "execution_count": null,
   "metadata": {},
   "outputs": [],
   "source": [
    "# checking the number of fragments that overlap between the libraries\n",
    "# Define the input file (regular FASTQ, not gzipped)\n",
    "input_p005 = \"/lunarc/nobackup/projects/lu2024-17-19/J_rAAven/BRAVE/raav-60/p005/SortedFragments.txt\"\n",
    "input_p007 = \"/lunarc/nobackup/projects/lu2024-17-19/J_rAAven/BRAVE/raav-60/p007/SortedFragments.txt\"\n",
    "# Extract sequences\n",
    "sequences_p005 = []\n",
    "sequences_p007 = []\n",
    "\n",
    "with open(input_p005, \"r\") as handle:  # Use open instead of gzip.open\n",
    "    # Read the file line by line\n",
    "    for line in handle:\n",
    "        # Remove leading/trailing whitespaces\n",
    "        line = line.strip()\n",
    "        # Skip empty lines\n",
    "        if not line:\n",
    "            continue\n",
    "        # Skip header lines\n",
    "        if line.startswith(\"S\"):\n",
    "            continue\n",
    "        # Store the sequence\n",
    "        sequences_p005.append(line)\n",
    "        \n",
    "with open(input_p007, \"r\") as handle: \n",
    "    for line in handle:\n",
    "        line = line.strip()\n",
    "        if not line:\n",
    "            continue\n",
    "        if line.startswith(\"S\"):\n",
    "            continue\n",
    "        sequences_p007.append(line)\n",
    "        \n",
    "print(f\"Number of sequences in p005: {len(sequences_p005)}\")\n",
    "print(f\"Number of sequences in p007: {len(sequences_p007)}\")\n",
    "\n",
    "# confert list to a set\n",
    "sequences_p005 = set(sequences_p005)\n",
    "sequences_p007 = set(sequences_p007)\n",
    "\n",
    "# Find the intersection\n",
    "common_sequences = sequences_p005.intersection(sequences_p007)\n",
    "print(f\"Number of common sequences: {len(common_sequences)}\")"
   ]
  },
  {
   "cell_type": "code",
   "execution_count": null,
   "metadata": {},
   "outputs": [],
   "source": [
    "# Read the dataframes into dataframes\n",
    "\n",
    "import pandas as pd\n",
    "\n",
    "df_p005 = pd.read_csv(\"/lunarc/nobackup/projects/lu2024-17-19/J_rAAven/BRAVE/raav-60/p005/final_fragments_summary.csv\")\n",
    "df_p006 = pd.read_csv(\"/lunarc/nobackup/projects/lu2024-17-19/J_rAAven/BRAVE/raav-60/p006/final_fragments_summary.csv\")\n",
    "df_p007 = pd.read_csv(\"/lunarc/nobackup/projects/lu2024-17-19/J_rAAven/BRAVE/raav-60/p007/final_fragments_summary.csv\")"
   ]
  },
  {
   "cell_type": "code",
   "execution_count": null,
   "metadata": {},
   "outputs": [],
   "source": [
    "# checking if there are only unique peptides in the plasmid library\n",
    "\n",
    "print(f'Number of found fragments in all groups {df_p007.shape[0]}')\n",
    "df_p007_plasmid = df_p007[df_p007[\"Group\"]==\"Plasmid_Library\"]\n",
    "print(f'Number of found fragments in Plasmid_Library {df_p007_plasmid.shape[0]}')\n",
    "# only keep unique Peptides\n",
    "uniques = df_p007_plasmid.drop_duplicates(subset='Peptide')\n",
    "print('Number of unique peptides:', uniques.shape[0])\n",
    "duplicate = df_p007_plasmid[df_p007_plasmid.duplicated(subset='Peptide', keep=False)]\n",
    "print('Number of duplicate peptides:', duplicate.shape[0])\n"
   ]
  },
  {
   "cell_type": "code",
   "execution_count": null,
   "metadata": {},
   "outputs": [],
   "source": [
    "# Selecting the data that we want to use for the plot\n",
    "\n",
    "df = df_p005\n",
    "# for p005 we can extract the GeneName from the Origion_seq column\n",
    "df['GeneName'] = df['Origion_seq'].str.split(',').str[5]"
   ]
  },
  {
   "cell_type": "code",
   "execution_count": null,
   "metadata": {},
   "outputs": [],
   "source": [
    "# Here we creating a new dataframe that holds the number of unique variants in each group\n",
    "\n",
    "# get the number of unique LUTnr in each group of the dataframe\n",
    "df.groupby('Group')['LUTnr'].nunique().sort_values(ascending=False)\n",
    "\n",
    "# create a new dataframe with Group and number of fragments in that group\n",
    "group_df = df.groupby('Group').size().reset_index(name='count')\n",
    "\n",
    "# Sort the dataframe by the count column in descending order\n",
    "group_df.sort_values(by='count', ascending=False, inplace=True)\n",
    "\n",
    "# Check if Infectiv_AAV is a subset of DNA_resistant_AAV and DNA_sensitive_AAV is a subset of Plasmid_library \n",
    "# get a set of all unique Sequences in the three groups\n",
    "Infectiv_AAV = set(df[df['Group'] == 'Infective_AAVs']['LUTnr'])\n",
    "DNA_resistant_AAV = set(df[df['Group'] == 'DNAse_resistant_AAVs']['LUTnr'])\n",
    "Plasmid_library = set(df[df['Group'] == 'Plasmid_Library']['LUTnr'])\n",
    "\n",
    "# add that summary to the group_df\n",
    "group_df.loc[len(group_df)] = ['Infectiv_AAV in DNA_resistant_AAV', f'{len(Infectiv_AAV.intersection(DNA_resistant_AAV))} ({(len(Infectiv_AAV.intersection(DNA_resistant_AAV))/len(Infectiv_AAV)):.4f}%)']\n",
    "group_df.loc[len(group_df)] = ['Infectiv_AAV in Plasmid_library', f'{len(Infectiv_AAV.intersection(Plasmid_library))} ({(len(Infectiv_AAV.intersection(Plasmid_library))/len(Infectiv_AAV)):.1f}%)']\n",
    "group_df.loc[len(group_df)] = ['DNA_resistant_AAV in Plasmid_library', f'{len(DNA_resistant_AAV.intersection(Plasmid_library))} ({(len(DNA_resistant_AAV.intersection(Plasmid_library))/len(DNA_resistant_AAV)):.1f}%)']\n",
    "\n",
    "# save the dataframe to a csv file\n",
    "group_df.to_csv(\"plots/librarys/p007_fragments_per_group.csv\", index=False)"
   ]
  },
  {
   "cell_type": "code",
   "execution_count": null,
   "metadata": {},
   "outputs": [],
   "source": [
    "# Here we are using the plotting function that we have created to plot the number of fragments per group for each library to show the distribution of fragments in each group\n",
    "\n",
    "from plotting_functions import plot_quantities\n",
    "\n",
    "plot = plot_quantities(df,\n",
    "                {'Plasmid_Library':'Plasmid Library', 'DNAse_resistant_AAVs':'DNAse resistant AAVs', 'Infective_AAVs': 'Infective AAVs'},\n",
    "                {\"Array\": 117126}, step_size=10000)\n",
    "\n",
    "plot.savefig(\"plots/librarys/p005_quantities.png\", dpi=300, bbox_inches='tight', transparent=True)"
   ]
  },
  {
   "cell_type": "code",
   "execution_count": null,
   "metadata": {},
   "outputs": [],
   "source": [
    "# Here we are using the plotting function that we have created to plot with the read count ratio for the top fragments in a specific group\n",
    "\n",
    "from plotting_functions import plot_top_counts\n",
    "\n",
    "plot_top_counts(df, 10, 'Infective_AAVs', 'RNAcount', )\n",
    "\n",
    "# Save the plot as a png file without background\n",
    "plot.savefig(\"plots/librarys/p005_top_counts.png\", dpi=300, bbox_inches='tight', transparent=True)"
   ]
  },
  {
   "cell_type": "code",
   "execution_count": null,
   "metadata": {},
   "outputs": [],
   "source": [
    "# Here we are getting an overview of the unique group names and gene names in the dataframe\n",
    "\n",
    "# print all unique group names\n",
    "print(df['Group'].unique())\n",
    "# print all unqiue gene names\n",
    "print(df['GeneName'].unique())"
   ]
  },
  {
   "cell_type": "code",
   "execution_count": null,
   "metadata": {},
   "outputs": [],
   "source": [
    "# Here we are plotting the normalized RNA counts comparison between two gropus accros a specific gene reference\n",
    "\n",
    "from plotting_functions import plot_rna_counts\n",
    "import numpy as np\n",
    "\n",
    "df['normalized_RNAcount'] = np.log2(df['RNAcount']+1)\n",
    "plot_rna_counts(df, \"Plasmid_Library\", \"Infective_AAVs\", \"AAV1-VP1\", \"normalized_RNAcount\", \"log(10) RNA count\")\n",
    "\n",
    "# Save the plot as a png file without background\n",
    "plot.savefig(\"plots/librarys/p005_rna_counts_comparison.png\", dpi=300, bbox_inches='tight', transparent=True)\n"
   ]
  },
  {
   "cell_type": "code",
   "execution_count": null,
   "metadata": {},
   "outputs": [],
   "source": [
    "# Here is a function that is used to get the top fragments for a specific group and structure\n",
    "\n",
    "def get_top_fragment(df, group, n, sort_by, strucutre=None):\n",
    "    if strucutre is None:\n",
    "        return df[df['Group'] == group].nlargest(n, sort_by)\n",
    "    else:\n",
    "        return df[(df['Group'] == group) & (df['Structure'] == strucutre)].nlargest(n, sort_by)"
   ]
  },
  {
   "cell_type": "code",
   "execution_count": null,
   "metadata": {},
   "outputs": [],
   "source": [
    "# Here we are using the function to get the top 50 fragments for a specific group and structure\n",
    "\n",
    "top_50_inf_aavs = get_top_fragment(df, \"Infective_AAVs\", 50, \"BC_adjusted_count_ratio\")"
   ]
  },
  {
   "cell_type": "code",
   "execution_count": null,
   "metadata": {},
   "outputs": [],
   "source": [
    "# here we are plotting the heatmap for amino acid usage for a specific group\n",
    "\n",
    "from plotting_functions import plot_amino_acid_heatmap\n",
    "\n",
    "plot_amino_acid_heatmap(top_50_inf_aavs, \"Infective_AAVs\")"
   ]
  }
 ],
 "metadata": {
  "kernelspec": {
   "display_name": "shap",
   "language": "python",
   "name": "python3"
  },
  "language_info": {
   "codemirror_mode": {
    "name": "ipython",
    "version": 3
   },
   "file_extension": ".py",
   "mimetype": "text/x-python",
   "name": "python",
   "nbconvert_exporter": "python",
   "pygments_lexer": "ipython3",
   "version": "3.11.9"
  }
 },
 "nbformat": 4,
 "nbformat_minor": 2
}
