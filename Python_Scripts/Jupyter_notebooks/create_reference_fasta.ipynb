{
 "cells": [
  {
   "cell_type": "code",
   "execution_count": 2,
   "metadata": {},
   "outputs": [],
   "source": [
    "import pandas as pd\n",
    "import openpyxl"
   ]
  },
  {
   "cell_type": "code",
   "execution_count": 3,
   "metadata": {},
   "outputs": [
    {
     "data": {
      "text/html": [
       "<div>\n",
       "<style scoped>\n",
       "    .dataframe tbody tr th:only-of-type {\n",
       "        vertical-align: middle;\n",
       "    }\n",
       "\n",
       "    .dataframe tbody tr th {\n",
       "        vertical-align: top;\n",
       "    }\n",
       "\n",
       "    .dataframe thead th {\n",
       "        text-align: right;\n",
       "    }\n",
       "</style>\n",
       "<table border=\"1\" class=\"dataframe\">\n",
       "  <thead>\n",
       "    <tr style=\"text-align: right;\">\n",
       "      <th></th>\n",
       "      <th>Reference</th>\n",
       "      <th>Sequence</th>\n",
       "    </tr>\n",
       "  </thead>\n",
       "  <tbody>\n",
       "    <tr>\n",
       "      <th>0</th>\n",
       "      <td>HM535790.1</td>\n",
       "      <td>atgagcaagatctttgttaatccgagtgcaatcagagccggtctgg...</td>\n",
       "    </tr>\n",
       "    <tr>\n",
       "      <th>1</th>\n",
       "      <td>AF042824.1</td>\n",
       "      <td>atggttcctcaggttcttttgtttgtactccttctgggtttttcgt...</td>\n",
       "    </tr>\n",
       "    <tr>\n",
       "      <th>2</th>\n",
       "      <td>HM535790.1</td>\n",
       "      <td>atggttcctcaggttcttttgtttgtactccttctgggtttttcgt...</td>\n",
       "    </tr>\n",
       "    <tr>\n",
       "      <th>3</th>\n",
       "      <td>M31046.1</td>\n",
       "      <td>atggttcctcaggctctcctgtttgtaccccttctggtttttccat...</td>\n",
       "    </tr>\n",
       "    <tr>\n",
       "      <th>4</th>\n",
       "      <td>JX276550.1</td>\n",
       "      <td>atggttcctcaggctctcctgtttgtaccccttctggtttttccat...</td>\n",
       "    </tr>\n",
       "  </tbody>\n",
       "</table>\n",
       "</div>"
      ],
      "text/plain": [
       "    Reference                                           Sequence\n",
       "0  HM535790.1  atgagcaagatctttgttaatccgagtgcaatcagagccggtctgg...\n",
       "1  AF042824.1  atggttcctcaggttcttttgtttgtactccttctgggtttttcgt...\n",
       "2  HM535790.1  atggttcctcaggttcttttgtttgtactccttctgggtttttcgt...\n",
       "3    M31046.1  atggttcctcaggctctcctgtttgtaccccttctggtttttccat...\n",
       "4  JX276550.1  atggttcctcaggctctcctgtttgtaccccttctggtttttccat..."
      ]
     },
     "execution_count": 3,
     "metadata": {},
     "output_type": "execute_result"
    }
   ],
   "source": [
    "# load in the fragments from the excel file\n",
    "df = pd.read_excel('files/Sequences for fragmentation.xlsx')\n",
    "df.head()"
   ]
  },
  {
   "cell_type": "code",
   "execution_count": 4,
   "metadata": {},
   "outputs": [],
   "source": [
    "# write the data to a fasta file and set the sequence to uppercase\n",
    "with open('files/reference_seq.fasta', 'w') as f:\n",
    "    for index, row in df.iterrows():\n",
    "        f.write(f'>{row[\"Reference\"]}\\n{row[\"Sequence\"].lower()}\\n')\n"
   ]
  }
 ],
 "metadata": {
  "kernelspec": {
   "display_name": "jupyter",
   "language": "python",
   "name": "python3"
  },
  "language_info": {
   "codemirror_mode": {
    "name": "ipython",
    "version": 3
   },
   "file_extension": ".py",
   "mimetype": "text/x-python",
   "name": "python",
   "nbconvert_exporter": "python",
   "pygments_lexer": "ipython3",
   "version": "3.11.9"
  }
 },
 "nbformat": 4,
 "nbformat_minor": 2
}
