{
 "cells": [
  {
   "cell_type": "code",
   "execution_count": 1,
   "metadata": {},
   "outputs": [],
   "source": [
    "import pandas as pd\n",
    "\n",
    "p005 = pd.read_csv('/lunarc/nobackup/projects/lu2024-17-19/J_rAAven/BRAVE/raav-60/p005/library_barcodes.csv')"
   ]
  },
  {
   "cell_type": "code",
   "execution_count": 4,
   "metadata": {},
   "outputs": [
    {
     "data": {
      "text/plain": [
       "Reads\n",
       "CTTGGCGGCCCCCCGCCCTGCCCGC    171\n",
       "CTCAGCCCAGCCACGCCCCCAGCGC    138\n",
       "CTCCCGCCGACCTGACCGCCGCCGC    135\n",
       "CTCCCCGGCCCGGCACCCCCTGCGC    130\n",
       "CTCGGCGGCTGACCCGGCCCGCCGC    129\n",
       "                            ... \n",
       "CTGTGAACCGGCCCGTCTACAGCGC      1\n",
       "CTCCCAACCAGCCCCTGCCCATCGC      1\n",
       "CTATGCACGACGACCTCATCATGGC      1\n",
       "CTGGGGGCGCCCCGCCCCGCCCCGC      1\n",
       "CTTGCAAGGAGGCCCCGCCCCTGGC      1\n",
       "Name: count, Length: 1263589, dtype: int64"
      ]
     },
     "execution_count": 4,
     "metadata": {},
     "output_type": "execute_result"
    }
   ],
   "source": [
    "# get the number of unique LUTnrs with the number of occurences form the dataframe\n",
    "p005['Reads'].value_counts()"
   ]
  },
  {
   "cell_type": "code",
   "execution_count": null,
   "metadata": {},
   "outputs": [],
   "source": [
    "load_list = pd.read_csv('/lunarc/nobackup/projects/lu2024-17-19/J_rAAven/BRAVE/raav-60/p005_test/input/load_list.csv')\n",
    "for row in load_list.iterrows():\n",
    "        # Extract the file name from the first column\n",
    "        file_path = row['Sample'][0]"
   ]
  },
  {
   "cell_type": "code",
   "execution_count": null,
   "metadata": {},
   "outputs": [],
   "source": [
    "p005.sort_values(by='mCount', ascending=False).head(20)"
   ]
  },
  {
   "cell_type": "code",
   "execution_count": null,
   "metadata": {},
   "outputs": [],
   "source": [
    "p005.sort_values(by='bitScore', ascending=False).head(20)"
   ]
  },
  {
   "cell_type": "code",
   "execution_count": null,
   "metadata": {},
   "outputs": [],
   "source": [
    "# get all entries where mcount == total tcount\n",
    "new = p005[p005['mCount'] == p005['tCount']].sort_values(by='mCount', ascending=False)\n",
    "new[new[\"LUTnr\"] == \"seq_22420\"]\n"
   ]
  },
  {
   "cell_type": "code",
   "execution_count": null,
   "metadata": {},
   "outputs": [],
   "source": [
    "import pandas as pd\n",
    "df = pd.read_csv('/lunarc/nobackup/projects/lu2024-17-19/J_rAAven/BRAVE/Brave/final_fragments_summary.csv')\n",
    "df.head()"
   ]
  },
  {
   "cell_type": "code",
   "execution_count": null,
   "metadata": {},
   "outputs": [],
   "source": [
    "df[\"BC_count\"].unique()"
   ]
  },
  {
   "cell_type": "code",
   "execution_count": null,
   "metadata": {},
   "outputs": [],
   "source": [
    "df[\"BC_count\"] = df['BC'].str.split(',').apply(len)\n",
    "df.head()"
   ]
  },
  {
   "cell_type": "code",
   "execution_count": null,
   "metadata": {},
   "outputs": [],
   "source": [
    "library_barcodes.shape\n"
   ]
  },
  {
   "cell_type": "code",
   "execution_count": null,
   "metadata": {},
   "outputs": [],
   "source": [
    "library_barcodes.columns"
   ]
  },
  {
   "cell_type": "code",
   "execution_count": null,
   "metadata": {},
   "outputs": [],
   "source": [
    "library_barcodes = library_barcodes.drop(columns=[ 'Reads', 'identity','alignmentLength', 'gapOpens', 'q_start', 'q_end', 's_start', 's_end','evalue'])\n",
    "library_barcodes.columns"
   ]
  },
  {
   "cell_type": "code",
   "execution_count": null,
   "metadata": {},
   "outputs": [],
   "source": [
    "# reorganize columns\n",
    "library_barcodes = library_barcodes[['Category', 'GeneName', 'LUTnr',  'BC', 'AAstart', 'AAend', 'Structure', 'Peptide',\n",
    "    'start', 'end', 'width', 'Sequence', 'bitScore',\n",
    "    'mismatches', 'tCount', 'mCount', 'RNAcount', 'Mode']]"
   ]
  },
  {
   "cell_type": "code",
   "execution_count": null,
   "metadata": {},
   "outputs": [],
   "source": [
    "library_barcodes.head()"
   ]
  },
  {
   "cell_type": "code",
   "execution_count": null,
   "metadata": {},
   "outputs": [],
   "source": [
    "import pandas as pd\n",
    "library_barcodes = pd.read_csv('/lunarc/nobackup/projects/lu2024-17-19/J_rAAven/BRAVE/0_data/pos_library_barcodes.csv')\n",
    "library_barcodes.shape"
   ]
  },
  {
   "cell_type": "code",
   "execution_count": null,
   "metadata": {},
   "outputs": [],
   "source": [
    "found_barcodes = pd.read_csv('/lunarc/nobackup/projects/lu2024-17-19/J_rAAven/BRAVE/0_data/found_barcodes/found.mRNA_30cpc_Th.csv')\n",
    "found_barcodes.head()"
   ]
  },
  {
   "cell_type": "code",
   "execution_count": null,
   "metadata": {},
   "outputs": [],
   "source": [
    "\n",
    "# concat dataframes but only keep the columns that are in both dataframes\n",
    "combined = pd.concat([library_barcodes, found_barcodes], join='inner')"
   ]
  },
  {
   "cell_type": "code",
   "execution_count": null,
   "metadata": {},
   "outputs": [],
   "source": [
    "def get_ref_sequence_length_df(file_path:str) -> pd.DataFrame:\n",
    "    \"\"\"\n",
    "    Reads a FASTA file containing reference sequences and returns a DataFrame with sequence ids and lengths.\n",
    "    Args:\n",
    "        file_path (str): path to the file containing the reference sequences\n",
    "\n",
    "    Returns:\n",
    "        pd.DataFrame: DataFrame with the reference sequence ids and lengths\n",
    "    \"\"\"\n",
    "    \n",
    "    # read in file with original sequences\n",
    "    seqs_original = list(SeqIO.parse(file_path, \"fasta\"))\n",
    "    # translate sequences to amino acids\n",
    "    seq = [str(seq_record.seq).strip() for seq_record in seqs_original]\n",
    "    # get sequence ids\n",
    "    ids = [seq_record.description for seq_record in seqs_original]\n",
    "    # get sequence categories\n",
    "    categories = [id.split(\",\")[0] for id in ids]\n",
    "    # get the GeneName\n",
    "    gene_names = [id.split(\",\")[5] for id in ids]\n",
    "    \n",
    "    # create a DataFrame with sreference sequence ids and lengths\n",
    "    ref_seq_len_df = pd.DataFrame({\"Category\": categories,\n",
    "                                    \"GeneName\": gene_names,\n",
    "                                    \"seqlength\": [len(s) for s in seq]})\n",
    "    \n",
    "    return ref_seq_len_df"
   ]
  },
  {
   "cell_type": "code",
   "execution_count": null,
   "metadata": {},
   "outputs": [],
   "source": [
    "df = get_ref_sequence_length_df('/lunarc/nobackup/projects/lu2024-17-19/J_rAAven/BRAVE/input/DNA-lib_RetrogradeTransport.fasta')"
   ]
  },
  {
   "cell_type": "code",
   "execution_count": null,
   "metadata": {},
   "outputs": [],
   "source": [
    "import os\n",
    "\n",
    "test = \"DNA_pscAAVlib_Prep2_1.fastq.gz\"\n",
    "test_name=os.path.basename(test).replace('.fastq.gz', '')\n",
    "print(test_name)"
   ]
  }
 ],
 "metadata": {
  "kernelspec": {
   "display_name": "jupyter",
   "language": "python",
   "name": "python3"
  },
  "language_info": {
   "codemirror_mode": {
    "name": "ipython",
    "version": 3
   },
   "file_extension": ".py",
   "mimetype": "text/x-python",
   "name": "python",
   "nbconvert_exporter": "python",
   "pygments_lexer": "ipython3",
   "version": "3.11.9"
  }
 },
 "nbformat": 4,
 "nbformat_minor": 2
}
